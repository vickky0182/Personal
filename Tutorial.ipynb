{
  "nbformat": 4,
  "nbformat_minor": 0,
  "metadata": {
    "colab": {
      "provenance": [],
      "authorship_tag": "ABX9TyNhe7dvrgWnU+5+C+LNyZKO",
      "include_colab_link": true
    },
    "kernelspec": {
      "name": "python3",
      "display_name": "Python 3"
    },
    "language_info": {
      "name": "python"
    }
  },
  "cells": [
    {
      "cell_type": "markdown",
      "metadata": {
        "id": "view-in-github",
        "colab_type": "text"
      },
      "source": [
        "<a href=\"https://colab.research.google.com/github/vickky0182/Personal/blob/main/Tutorial.ipynb\" target=\"_parent\"><img src=\"https://colab.research.google.com/assets/colab-badge.svg\" alt=\"Open In Colab\"/></a>"
      ]
    },
    {
      "cell_type": "code",
      "execution_count": 5,
      "metadata": {
        "id": "n5axUl9HkqPy"
      },
      "outputs": [],
      "source": [
        "def si(p,t,r):\n",
        "  print(\"principal is \", p)\n",
        "  print(\"time is \", t)\n",
        "  print(\"rate is \", r)\n",
        "  s=(p*t*r)/100\n",
        "\n",
        "  print(\"si is \", s)"
      ]
    },
    {
      "cell_type": "code",
      "source": [
        "si(8, 6, 8)"
      ],
      "metadata": {
        "colab": {
          "base_uri": "https://localhost:8080/"
        },
        "id": "VpS6jv8_laL7",
        "outputId": "fc19b26f-13bb-4026-db9a-ef7398992957"
      },
      "execution_count": 6,
      "outputs": [
        {
          "output_type": "stream",
          "name": "stdout",
          "text": [
            "principal is  8\n",
            "time is  6\n",
            "rate is  8\n",
            "si is  3.84\n"
          ]
        }
      ]
    },
    {
      "cell_type": "code",
      "source": [],
      "metadata": {
        "id": "qNDU6e5wpp_I"
      },
      "execution_count": null,
      "outputs": []
    }
  ]
}